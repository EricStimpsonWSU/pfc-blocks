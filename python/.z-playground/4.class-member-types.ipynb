{
 "cells": [
  {
   "cell_type": "code",
   "execution_count": 28,
   "metadata": {},
   "outputs": [],
   "source": [
    "def getter_setter_gen(name, type_):\n",
    "    def getter(self):\n",
    "        return getattr(self, \"__\" + name)\n",
    "    def setter(self, value):\n",
    "        if not isinstance(value, type_):\n",
    "            raise TypeError(f\"{name} attribute must be set to an instance of {type_}\")\n",
    "        setattr(self, \"__\" + name, value)\n",
    "    return property(getter, setter)\n",
    "\n",
    "def auto_attr_check(cls):\n",
    "    new_dct = {}\n",
    "    for key, value in cls.__dict__.items():\n",
    "        if isinstance(value, type):\n",
    "            value = getter_setter_gen(key, value)\n",
    "        new_dct[key] = value\n",
    "    # Creates a new class, using the modified dictionary as the class dict:\n",
    "    return type(cls)(cls.__name__, cls.__bases__, new_dct)\n",
    "\n",
    "@auto_attr_check\n",
    "class Foo(object):\n",
    "    bar = int\n",
    "    baz = str, int\n",
    "    bam = float\n"
   ]
  },
  {
   "cell_type": "code",
   "execution_count": 29,
   "metadata": {},
   "outputs": [],
   "source": [
    "f = Foo()\n",
    "f.bar = 5\n",
    "f.baz = \"hello\"\n",
    "f.bam = 3.14"
   ]
  },
  {
   "cell_type": "code",
   "execution_count": 30,
   "metadata": {},
   "outputs": [
    {
     "ename": "TypeError",
     "evalue": "bar attribute must be set to an instance of <class 'int'>",
     "output_type": "error",
     "traceback": [
      "\u001b[1;31m---------------------------------------------------------------------------\u001b[0m",
      "\u001b[1;31mTypeError\u001b[0m                                 Traceback (most recent call last)",
      "Cell \u001b[1;32mIn[30], line 1\u001b[0m\n\u001b[1;32m----> 1\u001b[0m \u001b[43mf\u001b[49m\u001b[38;5;241;43m.\u001b[39;49m\u001b[43mbar\u001b[49m \u001b[38;5;241m=\u001b[39m \u001b[38;5;124m\"\u001b[39m\u001b[38;5;124mhello\u001b[39m\u001b[38;5;124m\"\u001b[39m\n",
      "Cell \u001b[1;32mIn[28], line 6\u001b[0m, in \u001b[0;36mgetter_setter_gen.<locals>.setter\u001b[1;34m(self, value)\u001b[0m\n\u001b[0;32m      4\u001b[0m \u001b[38;5;28;01mdef\u001b[39;00m \u001b[38;5;21msetter\u001b[39m(\u001b[38;5;28mself\u001b[39m, value):\n\u001b[0;32m      5\u001b[0m     \u001b[38;5;28;01mif\u001b[39;00m \u001b[38;5;129;01mnot\u001b[39;00m \u001b[38;5;28misinstance\u001b[39m(value, type_):\n\u001b[1;32m----> 6\u001b[0m         \u001b[38;5;28;01mraise\u001b[39;00m \u001b[38;5;167;01mTypeError\u001b[39;00m(\u001b[38;5;124mf\u001b[39m\u001b[38;5;124m\"\u001b[39m\u001b[38;5;132;01m{\u001b[39;00mname\u001b[38;5;132;01m}\u001b[39;00m\u001b[38;5;124m attribute must be set to an instance of \u001b[39m\u001b[38;5;132;01m{\u001b[39;00mtype_\u001b[38;5;132;01m}\u001b[39;00m\u001b[38;5;124m\"\u001b[39m)\n\u001b[0;32m      7\u001b[0m     \u001b[38;5;28msetattr\u001b[39m(\u001b[38;5;28mself\u001b[39m, \u001b[38;5;124m\"\u001b[39m\u001b[38;5;124m__\u001b[39m\u001b[38;5;124m\"\u001b[39m \u001b[38;5;241m+\u001b[39m name, value)\n",
      "\u001b[1;31mTypeError\u001b[0m: bar attribute must be set to an instance of <class 'int'>"
     ]
    }
   ],
   "source": [
    "f.bar = \"hello\""
   ]
  },
  {
   "cell_type": "code",
   "execution_count": null,
   "metadata": {},
   "outputs": [],
   "source": [
    "obj.my_property = \"Hello, World!\"  # Raises TypeError"
   ]
  },
  {
   "cell_type": "code",
   "execution_count": 31,
   "metadata": {},
   "outputs": [],
   "source": [
    "f.baz = 5"
   ]
  },
  {
   "cell_type": "code",
   "execution_count": null,
   "metadata": {},
   "outputs": [],
   "source": [
    "from dataclasses import dataclass\n",
    "\n",
    "class IntConversionDescriptor:\n",
    "    def __init__(self, *, default):\n",
    "        self._default = default\n",
    "\n",
    "    def __set_name__(self, owner, name):\n",
    "        self._name = \"_\" + name\n",
    "\n",
    "    def __get__(self, obj, type):\n",
    "        if obj is None:\n",
    "            return self._default\n",
    "\n",
    "        return getattr(obj, self._name, self._default)\n",
    "\n",
    "    def __set__(self, obj, value):\n",
    "        setattr(obj, self._name, int(value))\n",
    "\n",
    "@dataclass\n",
    "class InventoryItem:\n",
    "    quantity_on_hand: IntConversionDescriptor = IntConversionDescriptor(default=100)\n"
   ]
  },
  {
   "cell_type": "code",
   "execution_count": null,
   "metadata": {},
   "outputs": [
    {
     "name": "stdout",
     "output_type": "stream",
     "text": [
      "100\n",
      "2\n"
     ]
    }
   ],
   "source": [
    "\n",
    "i = InventoryItem()\n",
    "print(i.quantity_on_hand)   # 100\n",
    "i.quantity_on_hand = 2.5    # calls __set__ with 2.5\n",
    "print(i.quantity_on_hand)   # 2\n"
   ]
  },
  {
   "cell_type": "code",
   "execution_count": null,
   "metadata": {},
   "outputs": [
    {
     "ename": "ValueError",
     "evalue": "invalid literal for int() with base 10: 'hello'",
     "output_type": "error",
     "traceback": [
      "\u001b[1;31m---------------------------------------------------------------------------\u001b[0m",
      "\u001b[1;31mValueError\u001b[0m                                Traceback (most recent call last)",
      "Cell \u001b[1;32mIn[24], line 1\u001b[0m\n\u001b[1;32m----> 1\u001b[0m \u001b[43mi\u001b[49m\u001b[38;5;241;43m.\u001b[39;49m\u001b[43mquantity_on_hand\u001b[49m \u001b[38;5;241m=\u001b[39m \u001b[38;5;124m\"\u001b[39m\u001b[38;5;124mhello\u001b[39m\u001b[38;5;124m\"\u001b[39m  \u001b[38;5;66;03m# TypeError: int() argument must be a string, a bytes-like object or a number, not 'str'\u001b[39;00m\n",
      "Cell \u001b[1;32mIn[21], line 17\u001b[0m, in \u001b[0;36mIntConversionDescriptor.__set__\u001b[1;34m(self, obj, value)\u001b[0m\n\u001b[0;32m     16\u001b[0m \u001b[38;5;28;01mdef\u001b[39;00m \u001b[38;5;21m__set__\u001b[39m(\u001b[38;5;28mself\u001b[39m, obj, value):\n\u001b[1;32m---> 17\u001b[0m     \u001b[38;5;28msetattr\u001b[39m(obj, \u001b[38;5;28mself\u001b[39m\u001b[38;5;241m.\u001b[39m_name, \u001b[38;5;28;43mint\u001b[39;49m\u001b[43m(\u001b[49m\u001b[43mvalue\u001b[49m\u001b[43m)\u001b[49m)\n",
      "\u001b[1;31mValueError\u001b[0m: invalid literal for int() with base 10: 'hello'"
     ]
    }
   ],
   "source": [
    "i.quantity_on_hand = \"hello\"  # TypeError: int() argument must be a string, a bytes-like object or a number, not 'str'"
   ]
  }
 ],
 "metadata": {
  "kernelspec": {
   "display_name": ".venv",
   "language": "python",
   "name": "python3"
  },
  "language_info": {
   "codemirror_mode": {
    "name": "ipython",
    "version": 3
   },
   "file_extension": ".py",
   "mimetype": "text/x-python",
   "name": "python",
   "nbconvert_exporter": "python",
   "pygments_lexer": "ipython3",
   "version": "3.11.0"
  }
 },
 "nbformat": 4,
 "nbformat_minor": 2
}

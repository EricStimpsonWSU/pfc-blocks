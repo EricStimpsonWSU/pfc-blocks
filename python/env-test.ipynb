{
 "cells": [
  {
   "cell_type": "markdown",
   "metadata": {},
   "source": [
    "# Tests\n",
    "Environment tests for python libraries.\n",
    "\n",
    "```\n",
    "python -m venv .venv\n",
    ".\\.venv\\Scripts\\activate\n",
    "```\n",
    "\n",
    "```\n",
    "pip install ipykernel\n",
    "ipython kernel install --user --name=.venv\n",
    "```\n",
    "\n",
    "```\n",
    "pip install nbformat\n",
    "```"
   ]
  },
  {
   "cell_type": "markdown",
   "metadata": {},
   "source": [
    "## Numpy\n",
    "\n",
    "```\n",
    "pip install numpy\n",
    "```"
   ]
  },
  {
   "cell_type": "code",
   "execution_count": 1,
   "metadata": {},
   "outputs": [
    {
     "data": {
      "text/plain": [
       "array([ 31.        +0.j        ,   3.82842712+0.58578644j,\n",
       "        -3.        +8.j        ,  -1.82842712-3.41421356j,\n",
       "       -21.        +0.j        ,  -1.82842712+3.41421356j,\n",
       "        -3.        -8.j        ,   3.82842712-0.58578644j])"
      ]
     },
     "execution_count": 1,
     "metadata": {},
     "output_type": "execute_result"
    }
   ],
   "source": [
    "import numpy as np\n",
    "\n",
    "def jit_fft(x):\n",
    "    return np.fft.fft(x)\n",
    "\n",
    "a = np.array([1, 6, 1, 8, 0, 3, 3, 9])\n",
    "jit_fft(a)"
   ]
  },
  {
   "cell_type": "markdown",
   "metadata": {},
   "source": [
    "## Numba (cpu)\n",
    "[Requires installing rocket-fft, but installing rocket-fft might take care of installing numba.]\n",
    "\n",
    "```\n",
    "pip install numba\n",
    "pip install rocket-fft\n",
    "```"
   ]
  },
  {
   "cell_type": "code",
   "execution_count": 1,
   "metadata": {},
   "outputs": [
    {
     "data": {
      "text/plain": [
       "array([ 31.        -0.j        ,   3.82842712+0.58578644j,\n",
       "        -3.        +8.j        ,  -1.82842712-3.41421356j,\n",
       "       -21.        -0.j        ,  -1.82842712+3.41421356j,\n",
       "        -3.        -8.j        ,   3.82842712-0.58578644j])"
      ]
     },
     "execution_count": 1,
     "metadata": {},
     "output_type": "execute_result"
    }
   ],
   "source": [
    "import numba as nb\n",
    "import numpy as np\n",
    "\n",
    "@nb.njit\n",
    "def jit_fft(x):\n",
    "    return np.fft.fft(x)\n",
    "\n",
    "a = np.array([1, 6, 1, 8, 0, 3, 3, 9])\n",
    "jit_fft(a)"
   ]
  },
  {
   "cell_type": "markdown",
   "metadata": {},
   "source": [
    "## Numba (gpu)\n",
    "\n",
    "```\n",
    "pip install cupy\n",
    "```"
   ]
  },
  {
   "cell_type": "code",
   "execution_count": null,
   "metadata": {},
   "outputs": [],
   "source": [
    "import numpy as np\n",
    "import cupy as cp\n",
    "import numba as nb\n",
    "from numba import cuda\n",
    "\n",
    "@cuda.jit\n",
    "def custom_fft(A, Ak):\n",
    "    # Perform operations on Ak (modify Ak as needed)\n",
    "    # Example: Ak *= 2\n",
    "\n",
    "    # Compute FFT of Ak using CuPy\n",
    "    Ak_fft = cp.fft.fft2(Ak)\n",
    "\n",
    "    # Perform additional operations on Ak_fft\n",
    "    # Example: Ak_fft += 1\n",
    "\n",
    "    # Compute inverse FFT to get A\n",
    "    A[:] = cp.fft.ifft2(Ak_fft)\n",
    "\n",
    "if __name__ == \"__main__\":\n",
    "    A = np.random.rand(4, 4)\n",
    "    Ak = np.random.rand(4, 4)\n",
    "\n",
    "    # Transfer arrays to GPU\n",
    "    A_gpu = cp.asarray(A)\n",
    "    Ak_gpu = cp.asarray(Ak)\n",
    "\n",
    "    # Call the custom kernel\n",
    "    custom_fft, 1\n",
    "\n",
    "    # Transfer result back to CPU\n",
    "    A_result = cp.asnumpy(A_gpu)\n",
    "\n",
    "    print(\"Modified A:\")\n",
    "    print(A_result)"
   ]
  }
 ],
 "metadata": {
  "kernelspec": {
   "display_name": ".venv",
   "language": "python",
   "name": "python3"
  },
  "language_info": {
   "codemirror_mode": {
    "name": "ipython",
    "version": 3
   },
   "file_extension": ".py",
   "mimetype": "text/x-python",
   "name": "python",
   "nbconvert_exporter": "python",
   "pygments_lexer": "ipython3",
   "version": "3.11.0"
  }
 },
 "nbformat": 4,
 "nbformat_minor": 2
}

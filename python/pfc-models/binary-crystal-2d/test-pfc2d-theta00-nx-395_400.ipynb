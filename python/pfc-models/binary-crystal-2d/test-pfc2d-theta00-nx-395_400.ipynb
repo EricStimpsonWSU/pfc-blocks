{
 "cells": [
  {
   "cell_type": "code",
   "execution_count": 6,
   "metadata": {},
   "outputs": [],
   "source": [
    "import pfc2d as pfc\n",
    "import importlib\n",
    "importlib.reload(pfc)\n",
    "import cupy as cp\n",
    "import plotly.graph_objects as go\n",
    "from plotly.subplots import make_subplots\n",
    "import numpy as np\n",
    "import os"
   ]
  },
  {
   "cell_type": "code",
   "execution_count": 12,
   "metadata": {},
   "outputs": [],
   "source": [
    "LXs = np.array([400, 420, 440])\n",
    "Gamma= np.zeros(LXs.size)"
   ]
  },
  {
   "cell_type": "code",
   "execution_count": 13,
   "metadata": {},
   "outputs": [
    {
     "name": "stdout",
     "output_type": "stream",
     "text": [
      "./out/nx/theta00/400x400\n",
      "Step 5000 --> Total time 5.00000e+01 This run time 5.00000e+01 Energy 0.14849899427704044 Gamma 1.6061784296622403\n",
      "Step 10000 --> Total time 1.00000e+02 This run time 1.00000e+02 Energy 0.14849881557727881 Gamma 1.60561228137827\n"
     ]
    },
    {
     "ename": "KeyboardInterrupt",
     "evalue": "",
     "output_type": "error",
     "traceback": [
      "\u001b[1;31m---------------------------------------------------------------------------\u001b[0m",
      "\u001b[1;31mKeyboardInterrupt\u001b[0m                         Traceback (most recent call last)",
      "Cell \u001b[1;32mIn[13], line 52\u001b[0m\n\u001b[0;32m     46\u001b[0m runParms \u001b[38;5;241m=\u001b[39m [\n\u001b[0;32m     47\u001b[0m {\u001b[38;5;124m'\u001b[39m\u001b[38;5;124mdt\u001b[39m\u001b[38;5;124m'\u001b[39m: \u001b[38;5;241m1e-2\u001b[39m, \u001b[38;5;124m'\u001b[39m\u001b[38;5;124msteps\u001b[39m\u001b[38;5;124m'\u001b[39m: \u001b[38;5;241m10000\u001b[39m, \u001b[38;5;124m'\u001b[39m\u001b[38;5;124mprintEvery\u001b[39m\u001b[38;5;124m'\u001b[39m: \u001b[38;5;241m5000\u001b[39m, \u001b[38;5;124m'\u001b[39m\u001b[38;5;124msaveEvery\u001b[39m\u001b[38;5;124m'\u001b[39m: \u001b[38;5;241m10000\u001b[39m, \u001b[38;5;124m'\u001b[39m\u001b[38;5;124moutputFolder\u001b[39m\u001b[38;5;124m'\u001b[39m: outputFolder,},\n\u001b[0;32m     48\u001b[0m {\u001b[38;5;124m'\u001b[39m\u001b[38;5;124mdt\u001b[39m\u001b[38;5;124m'\u001b[39m: \u001b[38;5;241m1e-2\u001b[39m, \u001b[38;5;124m'\u001b[39m\u001b[38;5;124msteps\u001b[39m\u001b[38;5;124m'\u001b[39m: \u001b[38;5;241m10000\u001b[39m, \u001b[38;5;124m'\u001b[39m\u001b[38;5;124mprintEvery\u001b[39m\u001b[38;5;124m'\u001b[39m: \u001b[38;5;241m1000\u001b[39m, \u001b[38;5;124m'\u001b[39m\u001b[38;5;124msaveEvery\u001b[39m\u001b[38;5;124m'\u001b[39m: \u001b[38;5;241m10000\u001b[39m, \u001b[38;5;124m'\u001b[39m\u001b[38;5;124moutputFolder\u001b[39m\u001b[38;5;124m'\u001b[39m: outputFolder,},\n\u001b[0;32m     49\u001b[0m     ]\n\u001b[0;32m     51\u001b[0m \u001b[38;5;28;01mfor\u001b[39;00m runParm \u001b[38;5;129;01min\u001b[39;00m runParms:\n\u001b[1;32m---> 52\u001b[0m     \u001b[43msim\u001b[49m\u001b[38;5;241;43m.\u001b[39;49m\u001b[43mrun\u001b[49m\u001b[43m(\u001b[49m\u001b[38;5;241;43m*\u001b[39;49m\u001b[38;5;241;43m*\u001b[39;49m\u001b[43mrunParm\u001b[49m\u001b[43m)\u001b[49m\n\u001b[0;32m     54\u001b[0m Gamma[i] \u001b[38;5;241m=\u001b[39m sim\u001b[38;5;241m.\u001b[39mpfcData\u001b[38;5;241m.\u001b[39mgamma\n",
      "File \u001b[1;32md:\\GitHubWSU\\pfc-blocks\\python\\pfc-models\\binary-crystal-2d\\pfc2d.py:663\u001b[0m, in \u001b[0;36mpfc2d.run\u001b[1;34m(self, steps, dt, printEvery, saveEvery, outputFolder, callbackEvery, callback)\u001b[0m\n\u001b[0;32m    660\u001b[0m     os\u001b[38;5;241m.\u001b[39mmakedirs(outputFolder, exist_ok\u001b[38;5;241m=\u001b[39m\u001b[38;5;28;01mTrue\u001b[39;00m)\n\u001b[0;32m    662\u001b[0m \u001b[38;5;28;01mfor\u001b[39;00m i \u001b[38;5;129;01min\u001b[39;00m \u001b[38;5;28mrange\u001b[39m(steps \u001b[38;5;241m+\u001b[39m \u001b[38;5;241m1\u001b[39m)[\u001b[38;5;241m1\u001b[39m:]:\n\u001b[1;32m--> 663\u001b[0m     \u001b[38;5;28;43mself\u001b[39;49m\u001b[38;5;241;43m.\u001b[39;49m\u001b[43mstep\u001b[49m\u001b[43m(\u001b[49m\u001b[43m)\u001b[49m\n\u001b[0;32m    665\u001b[0m     \u001b[38;5;28;01mif\u001b[39;00m printEvery \u001b[38;5;129;01mis\u001b[39;00m \u001b[38;5;129;01mnot\u001b[39;00m \u001b[38;5;28;01mNone\u001b[39;00m \u001b[38;5;129;01mand\u001b[39;00m i \u001b[38;5;241m%\u001b[39m printEvery \u001b[38;5;241m==\u001b[39m \u001b[38;5;241m0\u001b[39m:\n\u001b[0;32m    666\u001b[0m         \u001b[38;5;28mself\u001b[39m\u001b[38;5;241m.\u001b[39m_eng()\n",
      "File \u001b[1;32md:\\GitHubWSU\\pfc-blocks\\python\\pfc-models\\binary-crystal-2d\\pfc2d.py:405\u001b[0m, in \u001b[0;36mpfc2d.step\u001b[1;34m(self)\u001b[0m\n\u001b[0;32m    404\u001b[0m \u001b[38;5;28;01mdef\u001b[39;00m \u001b[38;5;21mstep\u001b[39m(\u001b[38;5;28mself\u001b[39m):\n\u001b[1;32m--> 405\u001b[0m     \u001b[38;5;28;43mself\u001b[39;49m\u001b[38;5;241;43m.\u001b[39;49m\u001b[43m_step\u001b[49m\u001b[43m(\u001b[49m\u001b[38;5;28;43mself\u001b[39;49m\u001b[43m)\u001b[49m\n",
      "File \u001b[1;32mcupy\\_core\\fusion.pyx:854\u001b[0m, in \u001b[0;36mcupy._core.fusion.Fusion.__call__\u001b[1;34m()\u001b[0m\n",
      "File \u001b[1;32md:\\GitHubWSU\\pfc-blocks\\python\\pfc-models\\binary-crystal-2d\\pfc2d.py:498\u001b[0m, in \u001b[0;36mpfc2d._step\u001b[1;34m(self)\u001b[0m\n\u001b[0;32m    496\u001b[0m \u001b[38;5;28mself\u001b[39m\u001b[38;5;241m.\u001b[39mpfcData\u001b[38;5;241m.\u001b[39mA2 \u001b[38;5;241m=\u001b[39m ifft(\u001b[38;5;28mself\u001b[39m\u001b[38;5;241m.\u001b[39mpfcData\u001b[38;5;241m.\u001b[39mAk2, norm\u001b[38;5;241m=\u001b[39m\u001b[38;5;124m\"\u001b[39m\u001b[38;5;124mforward\u001b[39m\u001b[38;5;124m\"\u001b[39m)\n\u001b[0;32m    497\u001b[0m \u001b[38;5;28mself\u001b[39m\u001b[38;5;241m.\u001b[39mpfcData\u001b[38;5;241m.\u001b[39mA3 \u001b[38;5;241m=\u001b[39m ifft(\u001b[38;5;28mself\u001b[39m\u001b[38;5;241m.\u001b[39mpfcData\u001b[38;5;241m.\u001b[39mAk3, norm\u001b[38;5;241m=\u001b[39m\u001b[38;5;124m\"\u001b[39m\u001b[38;5;124mforward\u001b[39m\u001b[38;5;124m\"\u001b[39m)\n\u001b[1;32m--> 498\u001b[0m \u001b[38;5;28mself\u001b[39m\u001b[38;5;241m.\u001b[39mpfcData\u001b[38;5;241m.\u001b[39mB1 \u001b[38;5;241m=\u001b[39m \u001b[43mifft\u001b[49m\u001b[43m(\u001b[49m\u001b[38;5;28;43mself\u001b[39;49m\u001b[38;5;241;43m.\u001b[39;49m\u001b[43mpfcData\u001b[49m\u001b[38;5;241;43m.\u001b[39;49m\u001b[43mBk1\u001b[49m\u001b[43m,\u001b[49m\u001b[43m \u001b[49m\u001b[43mnorm\u001b[49m\u001b[38;5;241;43m=\u001b[39;49m\u001b[38;5;124;43m\"\u001b[39;49m\u001b[38;5;124;43mforward\u001b[39;49m\u001b[38;5;124;43m\"\u001b[39;49m\u001b[43m)\u001b[49m\n\u001b[0;32m    499\u001b[0m \u001b[38;5;28mself\u001b[39m\u001b[38;5;241m.\u001b[39mpfcData\u001b[38;5;241m.\u001b[39mB2 \u001b[38;5;241m=\u001b[39m ifft(\u001b[38;5;28mself\u001b[39m\u001b[38;5;241m.\u001b[39mpfcData\u001b[38;5;241m.\u001b[39mBk2, norm\u001b[38;5;241m=\u001b[39m\u001b[38;5;124m\"\u001b[39m\u001b[38;5;124mforward\u001b[39m\u001b[38;5;124m\"\u001b[39m)\n\u001b[0;32m    500\u001b[0m \u001b[38;5;28mself\u001b[39m\u001b[38;5;241m.\u001b[39mpfcData\u001b[38;5;241m.\u001b[39mB3 \u001b[38;5;241m=\u001b[39m ifft(\u001b[38;5;28mself\u001b[39m\u001b[38;5;241m.\u001b[39mpfcData\u001b[38;5;241m.\u001b[39mBk3, norm\u001b[38;5;241m=\u001b[39m\u001b[38;5;124m\"\u001b[39m\u001b[38;5;124mforward\u001b[39m\u001b[38;5;124m\"\u001b[39m)\n",
      "File \u001b[1;32md:\\GitHubWSU\\pfc-blocks\\.venv\\Lib\\site-packages\\cupy\\fft\\_fft.py:762\u001b[0m, in \u001b[0;36mifft2\u001b[1;34m(a, s, axes, norm)\u001b[0m\n\u001b[0;32m    759\u001b[0m \u001b[38;5;28;01mfrom\u001b[39;00m \u001b[38;5;21;01mcupy\u001b[39;00m\u001b[38;5;21;01m.\u001b[39;00m\u001b[38;5;21;01mcuda\u001b[39;00m \u001b[38;5;28;01mimport\u001b[39;00m cufft\n\u001b[0;32m    761\u001b[0m func \u001b[38;5;241m=\u001b[39m _default_fft_func(a, s, axes)\n\u001b[1;32m--> 762\u001b[0m \u001b[38;5;28;01mreturn\u001b[39;00m \u001b[43mfunc\u001b[49m\u001b[43m(\u001b[49m\u001b[43ma\u001b[49m\u001b[43m,\u001b[49m\u001b[43m \u001b[49m\u001b[43ms\u001b[49m\u001b[43m,\u001b[49m\u001b[43m \u001b[49m\u001b[43maxes\u001b[49m\u001b[43m,\u001b[49m\u001b[43m \u001b[49m\u001b[43mnorm\u001b[49m\u001b[43m,\u001b[49m\u001b[43m \u001b[49m\u001b[43mcufft\u001b[49m\u001b[38;5;241;43m.\u001b[39;49m\u001b[43mCUFFT_INVERSE\u001b[49m\u001b[43m)\u001b[49m\n",
      "File \u001b[1;32md:\\GitHubWSU\\pfc-blocks\\.venv\\Lib\\site-packages\\cupy\\fft\\_fft.py:620\u001b[0m, in \u001b[0;36m_fftn\u001b[1;34m(a, s, axes, norm, direction, value_type, order, plan, overwrite_x, out)\u001b[0m\n\u001b[0;32m    617\u001b[0m \u001b[38;5;66;03m# _cook_shape tells us input shape only, and not output shape\u001b[39;00m\n\u001b[0;32m    618\u001b[0m out_size \u001b[38;5;241m=\u001b[39m _get_fftn_out_size(a\u001b[38;5;241m.\u001b[39mshape, s, axes_sorted[\u001b[38;5;241m-\u001b[39m\u001b[38;5;241m1\u001b[39m], value_type)\n\u001b[1;32m--> 620\u001b[0m a \u001b[38;5;241m=\u001b[39m \u001b[43m_exec_fftn\u001b[49m\u001b[43m(\u001b[49m\u001b[43ma\u001b[49m\u001b[43m,\u001b[49m\u001b[43m \u001b[49m\u001b[43mdirection\u001b[49m\u001b[43m,\u001b[49m\u001b[43m \u001b[49m\u001b[43mvalue_type\u001b[49m\u001b[43m,\u001b[49m\u001b[43m \u001b[49m\u001b[43mnorm\u001b[49m\u001b[38;5;241;43m=\u001b[39;49m\u001b[43mnorm\u001b[49m\u001b[43m,\u001b[49m\u001b[43m \u001b[49m\u001b[43maxes\u001b[49m\u001b[38;5;241;43m=\u001b[39;49m\u001b[43maxes_sorted\u001b[49m\u001b[43m,\u001b[49m\n\u001b[0;32m    621\u001b[0m \u001b[43m               \u001b[49m\u001b[43moverwrite_x\u001b[49m\u001b[38;5;241;43m=\u001b[39;49m\u001b[43moverwrite_x\u001b[49m\u001b[43m,\u001b[49m\u001b[43m \u001b[49m\u001b[43mplan\u001b[49m\u001b[38;5;241;43m=\u001b[39;49m\u001b[43mplan\u001b[49m\u001b[43m,\u001b[49m\u001b[43m \u001b[49m\u001b[43mout\u001b[49m\u001b[38;5;241;43m=\u001b[39;49m\u001b[43mout\u001b[49m\u001b[43m,\u001b[49m\n\u001b[0;32m    622\u001b[0m \u001b[43m               \u001b[49m\u001b[43mout_size\u001b[49m\u001b[38;5;241;43m=\u001b[39;49m\u001b[43mout_size\u001b[49m\u001b[43m)\u001b[49m\n\u001b[0;32m    623\u001b[0m \u001b[38;5;28;01mreturn\u001b[39;00m a\n",
      "File \u001b[1;32md:\\GitHubWSU\\pfc-blocks\\.venv\\Lib\\site-packages\\cupy\\fft\\_fft.py:560\u001b[0m, in \u001b[0;36m_exec_fftn\u001b[1;34m(a, direction, value_type, norm, axes, overwrite_x, plan, out, out_size)\u001b[0m\n\u001b[0;32m    557\u001b[0m     plan\u001b[38;5;241m.\u001b[39mcheck_output_array(a, out)\n\u001b[0;32m    559\u001b[0m \u001b[38;5;28;01mif\u001b[39;00m out\u001b[38;5;241m.\u001b[39msize \u001b[38;5;241m!=\u001b[39m \u001b[38;5;241m0\u001b[39m:\n\u001b[1;32m--> 560\u001b[0m     \u001b[43mplan\u001b[49m\u001b[38;5;241;43m.\u001b[39;49m\u001b[43mfft\u001b[49m\u001b[43m(\u001b[49m\u001b[43ma\u001b[49m\u001b[43m,\u001b[49m\u001b[43m \u001b[49m\u001b[43mout\u001b[49m\u001b[43m,\u001b[49m\u001b[43m \u001b[49m\u001b[43mdirection\u001b[49m\u001b[43m)\u001b[49m\n\u001b[0;32m    562\u001b[0m \u001b[38;5;66;03m# normalize by the product of the shape along the transformed axes\u001b[39;00m\n\u001b[0;32m    563\u001b[0m arr \u001b[38;5;241m=\u001b[39m a \u001b[38;5;28;01mif\u001b[39;00m fft_type \u001b[38;5;129;01min\u001b[39;00m (cufft\u001b[38;5;241m.\u001b[39mCUFFT_R2C, cufft\u001b[38;5;241m.\u001b[39mCUFFT_D2Z) \u001b[38;5;28;01melse\u001b[39;00m out\n",
      "\u001b[1;31mKeyboardInterrupt\u001b[0m: "
     ]
    }
   ],
   "source": [
    "pfcParms = pfc.pfcParms()\n",
    "pfcParms.name = 'ttt'\n",
    "# pfcParms.Lx = 395\n",
    "pfcParms.Ly = 400\n",
    "pfcParms.dx = 1.\n",
    "pfcParms.dy = 1.\n",
    "pfcParms.dt = 1e-5\n",
    "pfcParms.alpha = 1.\n",
    "pfcParms.Vo = 0.\n",
    "pfcParms.ns = -0.2680999637\n",
    "pfcParms.nl = -0.443300386\n",
    "pfcParms.epsA = 0.3\n",
    "pfcParms.epsB = 0.3\n",
    "pfcParms.vA = 1.\n",
    "pfcParms.vB = 1.\n",
    "pfcParms.gA = 0.5\n",
    "pfcParms.gB = 0.5\n",
    "pfcParms.betaB = 1.\n",
    "pfcParms.alphaAB = 0.5\n",
    "pfcParms.omega = 0.3\n",
    "pfcParms.mu = 0.3\n",
    "pfcParms.nend = 10000\n",
    "pfcParms.nout = 5000\n",
    "pfcParms.neng2 = 5000\n",
    "pfcParms.neng = 100\n",
    "pfcParms.ntype = 34\n",
    "pfcParms.itheta = 0\n",
    "pfcParms.A1o = 2.220076e-01-4.233408e-02j\n",
    "pfcParms.A2o = 1.725721e-01+1.459397e-01j\n",
    "pfcParms.A3o = 2.220076e-01-4.233408e-02j\n",
    "pfcParms.B1o = -1.810067e-01-1.353370e-01j\n",
    "pfcParms.B2o = -8.670347e-03-2.258414e-01j\n",
    "pfcParms.B3o = -1.810067e-01-1.353370e-01j\n",
    "pfcParms.noise = 0.00\n",
    "\n",
    "for i, pfcParms.Lx in enumerate(LXs):\n",
    "\n",
    "    sim = pfc.pfc2d()\n",
    "    sim.initParms(pfcParms)\n",
    "\n",
    "    outputFolder = f'./out/nx/theta00/{pfcParms.Lx}x{pfcParms.Ly}'\n",
    "    if outputFolder is not None:\n",
    "        os.makedirs(outputFolder, exist_ok=True)\n",
    "    \n",
    "    print (outputFolder)\n",
    "    runParms = [\n",
    "    {'dt': 1e-2, 'steps': 10000, 'printEvery': 5000, 'saveEvery': 10000, 'outputFolder': outputFolder,},\n",
    "    {'dt': 1e-2, 'steps': 10000, 'printEvery': 1000, 'saveEvery': 10000, 'outputFolder': outputFolder,},\n",
    "        ]\n",
    "\n",
    "    for runParm in runParms:\n",
    "        sim.run(**runParm)\n",
    "\n",
    "    Gamma[i] = sim.pfcData.gamma"
   ]
  }
 ],
 "metadata": {
  "kernelspec": {
   "display_name": "Python (myenv-base)",
   "language": "python",
   "name": ".venv"
  },
  "language_info": {
   "codemirror_mode": {
    "name": "ipython",
    "version": 3
   },
   "file_extension": ".py",
   "mimetype": "text/x-python",
   "name": "python",
   "nbconvert_exporter": "python",
   "pygments_lexer": "ipython3",
   "version": "3.11.0"
  }
 },
 "nbformat": 4,
 "nbformat_minor": 2
}

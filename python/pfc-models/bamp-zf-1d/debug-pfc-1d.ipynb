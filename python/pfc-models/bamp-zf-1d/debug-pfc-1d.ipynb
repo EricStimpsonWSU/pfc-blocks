{
 "cells": [
  {
   "cell_type": "code",
   "execution_count": 1,
   "metadata": {},
   "outputs": [],
   "source": [
    "import pfc1d as pfc\n",
    "import importlib\n",
    "importlib.reload(pfc)\n",
    "import cupy as cp\n",
    "import plotly.graph_objects as go"
   ]
  },
  {
   "cell_type": "code",
   "execution_count": 4,
   "metadata": {},
   "outputs": [
    {
     "name": "stdout",
     "output_type": "stream",
     "text": [
      "pfcParms:\n",
      "name: theta0\n",
      "L: 2048\n",
      "TOL: 1e-06\n",
      "err_s: 0\n",
      "nmbr_eval: None\n",
      "G_0: None\n",
      "deltaj0: None\n",
      "qA2: 1\n",
      "qB2: 1\n",
      "qAB2: None\n",
      "du: None\n",
      "epsA: 0.3\n",
      "epsB: 0.3\n",
      "beta_A: 1\n",
      "beta_B: 1\n",
      "beta_AB: 0.0\n",
      "alpha_AB: 0.5\n",
      "width_per: 0.85\n",
      "m_gap_nA: None\n",
      "m_gap_nB: None\n",
      "width_nA: None\n",
      "width_nB: None\n",
      "width_A: None\n",
      "width_B: None\n",
      "gamma_nA: None\n",
      "gamma_nB: None\n",
      "Es: None\n",
      "dchi_j: None\n",
      "chi_j2: None\n",
      "qu: None\n",
      "q0: 1\n",
      "q02: 1\n",
      "qA: 1\n",
      "qB: 1\n",
      "delta_x: None\n",
      "delta_y: None\n",
      "eps_m: 0\n",
      "ntype: None\n",
      "alpha_11: None\n",
      "alpha_22: None\n",
      "sigma1: None\n",
      "sigma2: None\n",
      "sig1_dt: None\n",
      "sig2_dt: None\n",
      "delta_2: None\n",
      "aq: None\n",
      "b: None\n",
      "c: None\n",
      "sigmaj1: None\n",
      "sigmaj2: None\n",
      "dt: None\n",
      "dti: None\n",
      "dtime: None\n",
      "iter0: None\n",
      "iter: None\n",
      "idum: None\n",
      "n_0: None\n",
      "n_i: None\n",
      "iTheta: 0\n",
      "nAo_s: -0.2682240335169304\n",
      "nAo_l: -0.4435164100577305\n",
      "A1o: (-0.08783388673907956-0.2081951877739002j)\n",
      "A2o: (-0.2197898142019807-0.052463915154257496j)\n",
      "A3o: (0.1063354260412832-0.199381054868615j)\n",
      "B1o: (-0.09446010051158908+0.205273761785865j)\n",
      "B2o: (0.1095166345985139+0.197651540750247j)\n",
      "B3o: (-0.2189209317958431+0.05597904507955851j)\n"
     ]
    }
   ],
   "source": [
    "pfcParms = {'name': 'theta0', 'L': 2**11, 'iTheta': 0, 'outputDir': './', 'outputRoot': f'bampl{2**11}'}\n",
    "\n",
    "sim = pfc.pfc1d()\n",
    "sim.initParms(**pfcParms)\n",
    "sim.printParms()"
   ]
  },
  {
   "cell_type": "code",
   "execution_count": 5,
   "metadata": {},
   "outputs": [
    {
     "name": "stdout",
     "output_type": "stream",
     "text": [
      "pfc2d: {'pfcParms': pfcParms: {'name': 'theta0', 'L': 2048, 'TOL': 1e-06, 'err_s': 0, 'nmbr_eval': None, 'G_0': None, 'deltaj0': None, 'qA2': 1, 'qB2': 1, 'qAB2': None, 'du': None, 'epsA': 0.3, 'epsB': 0.3, 'beta_A': 1, 'beta_B': 1, 'beta_AB': 0.0, 'alpha_AB': 0.5, 'width_per': 0.85, 'm_gap_nA': None, 'm_gap_nB': None, 'width_nA': None, 'width_nB': None, 'width_A': None, 'width_B': None, 'gamma_nA': None, 'gamma_nB': None, 'Es': None, 'dchi_j': None, 'chi_j2': None, 'qu': None, 'q0': 1, 'q02': 1, 'qA': 1, 'qB': 1, 'delta_x': None, 'delta_y': None, 'eps_m': 0, 'ntype': None, 'alpha_11': None, 'alpha_22': None, 'sigma1': None, 'sigma2': None, 'sig1_dt': None, 'sig2_dt': None, 'delta_2': None, 'aq': None, 'b': None, 'c': None, 'sigmaj1': None, 'sigmaj2': None, 'dt': None, 'dti': None, 'dtime': None, 'iter0': None, 'iter': None, 'idum': None, 'n_0': None, 'n_i': None, 'iTheta': 0, 'nAo_s': -0.2682240335169304, 'nAo_l': -0.4435164100577305, 'A1o': (-0.08783388673907956-0.2081951877739002j), 'A2o': (-0.2197898142019807-0.052463915154257496j), 'A3o': (0.1063354260412832-0.199381054868615j), 'B1o': (-0.09446010051158908+0.205273761785865j), 'B2o': (0.1095166345985139+0.197651540750247j), 'B3o': (-0.2189209317958431+0.05597904507955851j)}, 'pfcData': pfcData: {'A0': None, 'A0q': None, 'B0': None, 'B0q': None, 'nA0': None, 'nA0q': None, 'nB0': None, 'nB0q': None, 'exp_j11': None, 'exp_j12': None, 'exp_j21': None, 'exp_j22': None, 'cf_j1': None, 'cf2_j1': None, 'cf_j2': None, 'cf2_j2': None, 'exp_11': None, 'exp_12': None, 'exp_21': None, 'exp_22': None, 'cf_1': None, 'cf2_1': None, 'cf_2': None, 'cf2_2': None, 'sigma12': None, 'sig1_alpha': None, 'sig2_alpha': None, 'alpha_12': None, 'alpha_21': None, 'sigmaj12': None, 'sigj1_alpha': None, 'sigj2_alpha': None, 'alpha_j12': None, 'alpha_j21': None, 'vA': 1.0, 'vB': 1.0, 'gA': 0.5, 'gB': 0.5, 'w': 0.3, 'u': 0.3, 'mB': 1, 'q02_mB': None, 'q02': None, 'qu2': None, 'isignamj': None, 'isignam': None, 'scale1d_b': None, 'time0': 0, 'iter0': 1}, 'runHistory': [], 'outputDir': './', 'outputRoot': 'bampl2048'}\n"
     ]
    }
   ],
   "source": [
    "print(sim)"
   ]
  }
 ],
 "metadata": {
  "kernelspec": {
   "display_name": "Python (myenv-base)",
   "language": "python",
   "name": ".venv"
  },
  "language_info": {
   "codemirror_mode": {
    "name": "ipython",
    "version": 3
   },
   "file_extension": ".py",
   "mimetype": "text/x-python",
   "name": "python",
   "nbconvert_exporter": "python",
   "pygments_lexer": "ipython3",
   "version": "3.11.0"
  }
 },
 "nbformat": 4,
 "nbformat_minor": 2
}

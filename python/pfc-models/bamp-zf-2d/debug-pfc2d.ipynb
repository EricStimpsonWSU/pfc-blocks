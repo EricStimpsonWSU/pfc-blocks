{
 "cells": [
  {
   "cell_type": "code",
   "execution_count": 19,
   "metadata": {},
   "outputs": [],
   "source": [
    "import pfc2d as pfc\n",
    "import importlib\n",
    "importlib.reload(pfc)\n",
    "import cupy as cp\n",
    "import plotly.graph_objects as go"
   ]
  },
  {
   "cell_type": "code",
   "execution_count": 20,
   "metadata": {},
   "outputs": [
    {
     "name": "stdout",
     "output_type": "stream",
     "text": [
      "pfcParms:\n",
      "name: theta0\n",
      "Lx: 400\n",
      "Ly: 400\n",
      "iTheta: 0\n",
      "nAo_s: -0.2682240335169304\n",
      "nAo_l: -0.4435164100577305\n",
      "A1o: (-0.08783388673907956-0.2081951877739002j)\n",
      "A2o: (-0.2197898142019807-0.052463915154257496j)\n",
      "A3o: (0.1063354260412832-0.199381054868615j)\n",
      "B1o: (-0.09446010051158908+0.205273761785865j)\n",
      "B2o: (0.1095166345985139+0.197651540750247j)\n",
      "B3o: (-0.2189209317958431+0.05597904507955851j)\n"
     ]
    }
   ],
   "source": [
    "pfcParms = {'name': 'theta0', 'Lx': 400, 'Ly': 400, 'iTheta': 0}\n",
    "\n",
    "sim = pfc.pfc2d()\n",
    "sim.initParms(**pfcParms)\n",
    "sim.printParms()"
   ]
  }
 ],
 "metadata": {
  "kernelspec": {
   "display_name": "Python (myenv-base)",
   "language": "python",
   "name": ".venv"
  },
  "language_info": {
   "codemirror_mode": {
    "name": "ipython",
    "version": 3
   },
   "file_extension": ".py",
   "mimetype": "text/x-python",
   "name": "python",
   "nbconvert_exporter": "python",
   "pygments_lexer": "ipython3",
   "version": "3.11.0"
  }
 },
 "nbformat": 4,
 "nbformat_minor": 2
}
